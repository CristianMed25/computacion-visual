{
  "cells": [
    {
      "cell_type": "code",
      "execution_count": 4,
      "metadata": {
        "id": "glvEepgNVktZ"
      },
      "outputs": [
        {
          "ename": "ModuleNotFoundError",
          "evalue": "No module named 'open3d'",
          "output_type": "error",
          "traceback": [
            "\u001b[31m---------------------------------------------------------------------------\u001b[39m",
            "\u001b[31mModuleNotFoundError\u001b[39m                       Traceback (most recent call last)",
            "\u001b[36mCell\u001b[39m\u001b[36m \u001b[39m\u001b[32mIn[4]\u001b[39m\u001b[32m, line 5\u001b[39m\n\u001b[32m      3\u001b[39m \u001b[38;5;28;01mimport\u001b[39;00m\u001b[38;5;250m \u001b[39m\u001b[34;01mpandas\u001b[39;00m\u001b[38;5;250m \u001b[39m\u001b[38;5;28;01mas\u001b[39;00m\u001b[38;5;250m \u001b[39m\u001b[34;01mpd\u001b[39;00m\n\u001b[32m      4\u001b[39m \u001b[38;5;28;01mimport\u001b[39;00m\u001b[38;5;250m \u001b[39m\u001b[34;01mnumpy\u001b[39;00m\u001b[38;5;250m \u001b[39m\u001b[38;5;28;01mas\u001b[39;00m\u001b[38;5;250m \u001b[39m\u001b[34;01mnp\u001b[39;00m\n\u001b[32m----> \u001b[39m\u001b[32m5\u001b[39m \u001b[38;5;28;01mimport\u001b[39;00m\u001b[38;5;250m \u001b[39m\u001b[34;01mopen3d\u001b[39;00m\u001b[38;5;250m \u001b[39m\u001b[38;5;28;01mas\u001b[39;00m\u001b[38;5;250m \u001b[39m\u001b[34;01mo3d\u001b[39;00m \u001b[38;5;66;03m# type: ignore\u001b[39;00m\n\u001b[32m      6\u001b[39m \u001b[38;5;28;01mimport\u001b[39;00m\u001b[38;5;250m \u001b[39m\u001b[34;01mtrimesh\u001b[39;00m\n\u001b[32m      7\u001b[39m \u001b[38;5;28;01mimport\u001b[39;00m\u001b[38;5;250m \u001b[39m\u001b[34;01mos\u001b[39;00m\n",
            "\u001b[31mModuleNotFoundError\u001b[39m: No module named 'open3d'"
          ]
        }
      ],
      "source": [
        "# Requiere: vedo, numpy, pandas, trimesh, open3d\n",
        "import vedo\n",
        "import pandas as pd\n",
        "import numpy as np\n",
        "import open3d as o3d\n",
        "import trimesh\n",
        "import os\n",
        "\n",
        "# --- Función para cargar el CSV ---\n",
        "def cargar_datos_csv(ruta_csv):\n",
        "    return pd.read_csv(ruta_csv)\n",
        "\n",
        "# --- Crear primitiva en Vedo desde fila de datos ---\n",
        "def crear_primitiva(fila):\n",
        "    x, y, z = fila['x'], fila['y'], fila['z']\n",
        "    tipo = fila['tipo'].lower()\n",
        "    color = fila['color']\n",
        "    escala = fila['escala']\n",
        "\n",
        "    if tipo == 'cubo':\n",
        "        return vedo.Cube(pos=(x, y, z), side=escala, c=color)\n",
        "    elif tipo == 'esfera':\n",
        "        return vedo.Sphere(pos=(x, y, z), r=escala, c=color)\n",
        "    elif tipo == 'cilindro':\n",
        "        return vedo.Cylinder(pos=(x, y, z), r=escala/2, height=escala*1.5, c=color)\n",
        "    else:\n",
        "        return None\n",
        "\n",
        "# --- Generar lista de objetos 3D ---\n",
        "def generar_objetos(df):\n",
        "    return [crear_primitiva(fila) for _, fila in df.iterrows() if crear_primitiva(fila)]\n",
        "\n",
        "# --- Visualizar escena en ventana interactiva ---\n",
        "def visualizar_escena(objetos):\n",
        "    escena = vedo.Plotter(title=\"Escena Paramétrica 3D\", axes=1)\n",
        "    escena.show(objetos, interactive=True)\n",
        "\n",
        "# --- Exportar escena a 3 formatos ---\n",
        "def exportar_escena(objetos, nombre_salida='escena_parametrica'):\n",
        "    os.makedirs(\"../resultados/python/modelos\", exist_ok=True)\n",
        "    ruta_base = os.path.join(\"../resultados/python/modelos\", nombre_salida)\n",
        "\n",
        "    # Unificar todos los objetos en una sola malla\n",
        "    mesh_vedo = vedo.merge(*objetos)\n",
        "    vedo.write(mesh_vedo, f\"{ruta_base}.obj\")\n",
        "    vedo.write(mesh_vedo, f\"{ruta_base}.stl\")\n",
        "\n",
        "    # Exportar como GLB/GLTF con Open3D\n",
        "    triangles = vedo.Mesh(mesh_vedo).triangulate()\n",
        "    puntos = o3d.utility.Vector3dVector(triangles.points)\n",
        "    # Extraer caras de la malla\n",
        "    caras_np = np.array(triangles.cells, dtype=np.int32)\n",
        "\n",
        "    # Asegurar que tiene forma (N, 3)\n",
        "    if caras_np.ndim == 1:\n",
        "        caras_np = caras_np.reshape(-1, 3)\n",
        "\n",
        "    # Crear la malla Open3D\n",
        "    caras = o3d.utility.Vector3iVector(caras_np)\n",
        "    malla_o3d = o3d.geometry.TriangleMesh(vertices=puntos, triangles=caras)\n",
        "    o3d.io.write_triangle_mesh(f\"{ruta_base}.glb\", malla_o3d)\n",
        "\n",
        "ruta_csv = \"../datos/datos_escena.csv\"\n",
        "datos = cargar_datos_csv(ruta_csv)\n",
        "objetos = generar_objetos(datos)\n",
        "visualizar_escena(objetos)\n",
        "exportar_escena(objetos)\n",
        "\n"
      ]
    },
    {
      "cell_type": "code",
      "execution_count": 6,
      "metadata": {},
      "outputs": [
        {
          "name": "stdout",
          "output_type": "stream",
          "text": [
            "Note: you may need to restart the kernel to use updated packages.\n"
          ]
        },
        {
          "name": "stderr",
          "output_type": "stream",
          "text": [
            "ERROR: Could not find a version that satisfies the requirement open3d==0.17.0 (from versions: none)\n",
            "ERROR: No matching distribution found for open3d==0.17.0\n"
          ]
        }
      ],
      "source": [
        "%pip install open3d==0.17.0"
      ]
    }
  ],
  "metadata": {
    "colab": {
      "provenance": []
    },
    "kernelspec": {
      "display_name": "Python 3",
      "name": "python3"
    },
    "language_info": {
      "codemirror_mode": {
        "name": "ipython",
        "version": 3
      },
      "file_extension": ".py",
      "mimetype": "text/x-python",
      "name": "python",
      "nbconvert_exporter": "python",
      "pygments_lexer": "ipython3",
      "version": "3.13.1"
    }
  },
  "nbformat": 4,
  "nbformat_minor": 0
}

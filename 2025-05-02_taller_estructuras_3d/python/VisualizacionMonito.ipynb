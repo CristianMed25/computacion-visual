{
  "cells": [
    {
      "cell_type": "code",
      "execution_count": 2,
      "metadata": {
        "colab": {
          "base_uri": "https://localhost:8080/"
        },
        "id": "5fleUFpDNoQZ",
        "outputId": "c63fa70a-bc0b-4358-e831-59cd1cf3b6a2"
      },
      "outputs": [],
      "source": [
        "import trimesh\n",
        "import vedo\n",
        "from vedo import Plotter, Points, Lines, Mesh, Text2D\n",
        "import imageio.v2 as imageio\n",
        "import os\n",
        "import shutil\n",
        "\n",
        "# Cargar el modelo\n",
        "mesh = trimesh.load(\"Monito.obj\")\n",
        "\n",
        "# Estadísticas del modelo\n",
        "num_vertices = len(mesh.vertices)\n",
        "num_faces = len(mesh.faces)\n",
        "num_edges = len(mesh.edges_unique)\n",
        "stats_text = f\"Vértices: {num_vertices} | Aristas: {num_edges} | Caras: {num_faces}\"\n",
        "\n",
        "# Preparar elementos visuales\n",
        "vedo_mesh = Mesh([mesh.vertices, mesh.faces], c='black', alpha=0.8).lw(0.5)\n",
        "vertices = Points(mesh.vertices, r=4, c='red')\n",
        "edges = Lines([(mesh.vertices[i], mesh.vertices[j]) for i, j in mesh.edges_unique], c='blue')\n",
        "\n",
        "# Crear carpeta temporal para capturas\n",
        "output_folder = \"frames\"\n",
        "os.makedirs(output_folder, exist_ok=True)\n",
        "\n",
        "# Visualizador offscreen\n",
        "plotter = Plotter(offscreen=True, size=(600, 600))\n",
        "\n",
        "# Animación: rotar y capturar\n",
        "frames = []\n",
        "n_frames = 36\n",
        "for i in range(n_frames):\n",
        "    # Rotar todos los objetos\n",
        "    vedo_mesh.rotate(angle=360/n_frames, axis=[0, 1, 0])\n",
        "    vertices.rotate(angle=360/n_frames, axis=[0, 1, 0])\n",
        "    edges.rotate(angle=360/n_frames, axis=[0, 1, 0])\n",
        "\n",
        "    # Agregar texto con estadísticas\n",
        "    text = Text2D(stats_text, pos='top-left', c='white', bg='black', font='Courier', s=0.9)\n",
        "\n",
        "    # Mostrar escena\n",
        "    plotter.show(vedo_mesh, vertices, edges, text, axes=0, interactive=False)\n",
        "    filename = os.path.join(output_folder, f\"frame_{i:03d}.png\")\n",
        "    plotter.screenshot(filename)\n",
        "    frames.append(imageio.imread(filename))\n",
        "\n",
        "# Crear GIF\n",
        "imageio.mimsave(\"monito_animado.gif\", frames, fps=12)\n"
      ]
    }
  ],
  "metadata": {
    "colab": {
      "provenance": []
    },
    "kernelspec": {
      "display_name": "Python 3",
      "name": "python3"
    },
    "language_info": {
      "codemirror_mode": {
        "name": "ipython",
        "version": 3
      },
      "file_extension": ".py",
      "mimetype": "text/x-python",
      "name": "python",
      "nbconvert_exporter": "python",
      "pygments_lexer": "ipython3",
      "version": "3.13.1"
    }
  },
  "nbformat": 4,
  "nbformat_minor": 0
}
